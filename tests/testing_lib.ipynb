{
 "cells": [
  {
   "cell_type": "code",
   "execution_count": 1,
   "metadata": {},
   "outputs": [],
   "source": [
    "import sys\n",
    "sys.path.append(\"../src/\")\n"
   ]
  },
  {
   "cell_type": "code",
   "execution_count": 2,
   "metadata": {},
   "outputs": [
    {
     "name": "stdout",
     "output_type": "stream",
     "text": [
      "\n",
      "            <!doctype html>\n",
      "            <html lang=\"pt-br\">\n",
      "                <head>\n",
      "                    <meta charset=\"UTF-8\">\n",
      "                    <meta name=\"viewport\" content=\"width=device-width, initial-scale=1.0\">\n",
      "                    <title>Weedit Map</title>\n",
      "                    <link rel=\"stylesheet\" href=\"https://unpkg.com/leaflet@1.9.4/dist/leaflet.css\" integrity=\"sha256-p4NxAoJBhIIN+hmNHrzRCf9tD/miZyoHS5obTRR9BMY=\" crossorigin=\"\" />\n",
      "                    <script src=\"https://unpkg.com/leaflet@1.9.4/dist/leaflet.js\" integrity=\"sha256-20nQCchB9co0qIjJZRGuk2/Z9VM+kNiyxNV1lvTlZBo=\" crossorigin=\"\"></script>\n",
      "                    <script src=\"https://cdn.jsdelivr.net/npm/leaflet-textpath@1.2.3/leaflet.textpath.min.js\"></script>\n",
      "                    <link rel=\"stylesheet\" href=\"https://cdn.jsdelivr.net/npm/leaflet-side-by-side@2.2.0/layout.min.css\">\n",
      "                    <link rel=\"stylesheet\" href=\"https://cdnjs.cloudflare.com/ajax/libs/font-awesome/6.7.1/css/all.min.css\" integrity=\"sha512-5Hs3dF2AEPkpNAR7UiOHba+lRSJNeM2ECkwxUIxC1Q/FLycGTbNapWXB4tP889k5T5Ju8fs4b1P5z/iB4nMfSQ==\" crossorigin=\"anonymous\" referrerpolicy=\"no-referrer\" />                <link rel=\"preconnect\" href=\"https://fonts.googleapis.com\">\n",
      "                    <link rel=\"preconnect\" href=\"https://fonts.gstatic.com\" crossorigin>\n",
      "                    <link href=\"https://fonts.googleapis.com/css2?family=Lexend:wght@100..900&display=swap\" rel=\"stylesheet\">\n",
      "                </head>\n",
      "                <body>\n",
      "                    <div id='map'></div>\n",
      "                </body>\n",
      "                <script>\n",
      "                    var map = L.map('map', {\n",
      "                        center: [-22.55, -45.78],\n",
      "                        zoom: 13,\n",
      "                        layers: []\n",
      "                    });\n",
      "                    var baseLayer = L.tileLayer('http://mt0.google.com/vt/lyrs=y&hl=en&x={x}&y={y}&z={z}&s=Ga').addTo(map);\n",
      "                </script>\n",
      "            </html>\n",
      "        \n"
     ]
    }
   ],
   "source": [
    "from pyleaflet import Map\n",
    "from bs4 import BeautifulSoup\n",
    "\n",
    "m = Map(center=(-22.55, -45.78))\n",
    "\n",
    "m.to_html(\"test.html\")\n"
   ]
  }
 ],
 "metadata": {
  "kernelspec": {
   "display_name": "Python 3",
   "language": "python",
   "name": "python3"
  },
  "language_info": {
   "codemirror_mode": {
    "name": "ipython",
    "version": 3
   },
   "file_extension": ".py",
   "mimetype": "text/x-python",
   "name": "python",
   "nbconvert_exporter": "python",
   "pygments_lexer": "ipython3",
   "version": "3.10.10"
  }
 },
 "nbformat": 4,
 "nbformat_minor": 2
}
